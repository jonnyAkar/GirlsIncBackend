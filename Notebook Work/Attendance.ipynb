{
 "cells": [
  {
   "cell_type": "code",
   "execution_count": 1,
   "id": "8bf87f60-0e00-49c2-a4aa-dba8c7e99cda",
   "metadata": {},
   "outputs": [],
   "source": [
    "import numpy as np\n",
    "import pandas as pd\n",
    "import matplotlib.pyplot as plt\n",
    "import re\n",
    "import math\n",
    "import json\n"
   ]
  },
  {
   "cell_type": "code",
   "execution_count": 2,
   "id": "fec366be-3f25-4adb-b45d-fd5f8f5300c9",
   "metadata": {},
   "outputs": [],
   "source": [
    "def parse_date(date_str):\n",
    "    try:\n",
    "        # Adjust the format if your date format varies\n",
    "        return pd.to_datetime(date_str, format='%A, %m /%d/ %y', errors='coerce').date()\n",
    "    except ValueError:\n",
    "        return pd.NaT "
   ]
  },
  {
   "cell_type": "markdown",
   "id": "039bb655-ddab-41e7-810e-867885324ebc",
   "metadata": {},
   "source": [
    "## Beacon"
   ]
  },
  {
   "cell_type": "code",
   "execution_count": 3,
   "id": "53958b03-b2c9-4cae-b9e1-10e5c24d0dd5",
   "metadata": {},
   "outputs": [],
   "source": [
    "pd.set_option('display.max_rows', None)\n",
    "pd.set_option('display.max_columns', 1000);\n",
    "\n",
    "fname = './Attendance/BeaconAttendance.csv'\n",
    "df1 = pd.read_csv(fname, header=1)\n",
    "df1.insert(2, 'School', 'Beacon')\n",
    "df1.drop(df1.index[23:],axis=0,inplace=True)\n",
    "df1.head()\n",
    "\n",
    "for ind in range(3,df1.shape[1]):\n",
    "    df1.rename(columns = {df1.columns[ind] : parse_date(df1.columns[ind])}, inplace=True)\n"
   ]
  },
  {
   "cell_type": "markdown",
   "id": "462c981e-22f4-4624-9359-e6665baa2025",
   "metadata": {},
   "source": [
    "## Santa Clara"
   ]
  },
  {
   "cell_type": "code",
   "execution_count": 4,
   "id": "5046a07e-671d-4669-a04a-88d3e828f471",
   "metadata": {},
   "outputs": [
    {
     "data": {
      "text/plain": [
       "46"
      ]
     },
     "execution_count": 4,
     "metadata": {},
     "output_type": "execute_result"
    }
   ],
   "source": [
    "fname = './Attendance/SantaClaraAttendance.csv'\n",
    "df2 = pd.read_csv(fname, header=1)\n",
    "df2.insert(2, 'School', 'Santa Clara')\n",
    "df2.drop([\"Unnamed: 2\",\"Unnamed: 3\",\"Unnamed: 4\"],axis=1,inplace=True)\n",
    "df2.drop(df2.index[46:],axis=0,inplace=True)\n",
    "df2.rename(columns={'First Name ': 'First Name'},inplace=True)\n",
    "\n",
    "for ind in range(3,df2.shape[1]):\n",
    "    df2.rename(columns = {df2.columns[ind] : parse_date(df2.columns[ind])}, inplace=True)\n",
    "    \n",
    "df2.iloc[:,3].count()"
   ]
  },
  {
   "cell_type": "markdown",
   "id": "0283c643-117b-4691-b5ac-9a42a4b3d650",
   "metadata": {},
   "source": [
    "## Pine Lake"
   ]
  },
  {
   "cell_type": "code",
   "execution_count": 5,
   "id": "e3b62a63-b4bd-4eed-b819-2b1a0631a977",
   "metadata": {},
   "outputs": [],
   "source": [
    "fname = './Attendance/PineLakeAttendance.csv'\n",
    "df3 = pd.read_csv(fname, header=1)\n",
    "df3.insert(2, 'School', 'Pine Lake')\n",
    "df3.drop(df3.index[27:],axis=0,inplace=True)\n",
    "for ind in range(3,df3.shape[1]):\n",
    "    df3.rename(columns = {df3.columns[ind] : parse_date(df3.columns[ind])}, inplace=True)\n"
   ]
  },
  {
   "cell_type": "markdown",
   "id": "f0d38d1b-5912-4df5-ad79-b22a1fe89e09",
   "metadata": {},
   "source": [
    "## HIVE Prep"
   ]
  },
  {
   "cell_type": "code",
   "execution_count": 6,
   "id": "6244f4fa-712d-47c3-acc0-a4ad6eb115d2",
   "metadata": {},
   "outputs": [],
   "source": [
    "fname = './Attendance/HiveAttendance.csv'\n",
    "df4 = pd.read_csv(fname, header=1)\n",
    "df4.insert(2, 'School', 'HIVE Prep')\n",
    "df4.drop(df4.index[28:],axis=0,inplace=True)\n",
    "for ind in range(3,df4.shape[1]):\n",
    "    df4.rename(columns = {df4.columns[ind] : parse_date(df4.columns[ind])}, inplace=True)\n"
   ]
  },
  {
   "cell_type": "markdown",
   "id": "f43e2f23-7d28-4634-b236-fe948c746684",
   "metadata": {},
   "source": [
    "## KIPP"
   ]
  },
  {
   "cell_type": "code",
   "execution_count": 7,
   "id": "476eb4d7-a815-4cbf-9773-eb5471a934ec",
   "metadata": {},
   "outputs": [],
   "source": [
    "fname = './Attendance/KippAttendance.csv'\n",
    "df5 = pd.read_csv(fname, header=1)\n",
    "df5.insert(2, 'School', 'Kipp Miami')\n",
    "df5.drop(df5.index[29:],axis=0,inplace=True)\n",
    "\n",
    "df5.rename(columns = {df5.columns[11] : df5.iat[1,0]},inplace=True)\n",
    "\n",
    "for ind in range(3,df5.shape[1]):\n",
    "    df5.rename(columns = {df5.columns[ind] : parse_date(df5.columns[ind])}, inplace=True)\n",
    "\n",
    "df5.iat[1,0] = \"Asaiah\"\n",
    "\n"
   ]
  },
  {
   "cell_type": "markdown",
   "id": "16c8246a-591a-451f-8e8f-48ee9b065c7c",
   "metadata": {},
   "source": [
    "## Merge"
   ]
  },
  {
   "cell_type": "code",
   "execution_count": 9,
   "id": "b125cc21-88ec-424d-8f63-d13e6b9bb1e9",
   "metadata": {},
   "outputs": [],
   "source": [
    "frames = [df1,df2,df3,df4,df5]\n",
    "result = pd.concat(frames, axis=0)\n",
    "result.to_csv('attendance_cleaned.csv', index=False)\n",
    "\n"
   ]
  },
  {
   "cell_type": "markdown",
   "id": "c15e610c-f0e5-4a3c-88b7-439d56230a3d",
   "metadata": {},
   "source": [
    "## Average Attendance"
   ]
  },
  {
   "cell_type": "code",
   "execution_count": 17,
   "id": "6ed43a7a-860c-4c0e-8ea0-3f0318b6ac38",
   "metadata": {},
   "outputs": [],
   "source": [
    "today = pd.to_datetime('today').date()\n",
    "days = np.busday_count(result.columns[3], today)\n",
    "\n",
    "\n",
    "days_csv = pd.DataFrame(result.columns[3:days+2])\n",
    "days_csv.to_csv('daysTillToday.csv', index=False)\n"
   ]
  },
  {
   "cell_type": "code",
   "execution_count": 18,
   "id": "5f5873f4-4cff-4359-bb6c-e61462f9dd57",
   "metadata": {},
   "outputs": [],
   "source": [
    "def calculate_daily_average():\n",
    "    for day in range(3,days+2):\n",
    "        #beacon\n",
    "        avg_att = df1.iloc[:,day].sum() / df1.iloc[:,day].count()\n",
    "        attendance_data[\"Beacon\"].append(avg_att)\n",
    "        #Santa clara\n",
    "        avg_att = df2.iloc[:,day].sum() / df2.iloc[:,day].count()\n",
    "        attendance_data[\"Santa Clara\"].append(avg_att)\n",
    "        #Pine\n",
    "        avg_att = df3.iloc[:,day].sum() / df3.iloc[:,day].count()\n",
    "        attendance_data[\"Pine Lake\"].append(avg_att)\n",
    "        #Hive\n",
    "        avg_att = df4.iloc[:,day].sum() / df4.iloc[:,day].count()\n",
    "        attendance_data[\"Hive\"].append(avg_att)\n",
    "        #Kipp\n",
    "        avg_att = df5.iloc[:,day].sum() / df5.iloc[:,day].count()\n",
    "        attendance_data[\"Kipp\"].append(avg_att)"
   ]
  },
  {
   "cell_type": "code",
   "execution_count": 19,
   "id": "e02bff53-5806-417c-b23f-5d3c8d24cee9",
   "metadata": {},
   "outputs": [],
   "source": [
    "attendance_data = {\n",
    "    \"Kipp\":[],\n",
    "    \"Beacon\":[],\n",
    "    \"Santa Clara\":[],\n",
    "    \"Hive\":[],\n",
    "    \"Pine Lake\":[],\n",
    "}\n",
    "calculate_daily_average()\n",
    "\n",
    "filename = 'school_daily_attendance.json'\n",
    "\n",
    "# Writing JSON data\n",
    "with open(filename, 'w') as f:\n",
    "    json.dump(attendance_data, f, indent=4) \n",
    "\n",
    "\n"
   ]
  },
  {
   "cell_type": "code",
   "execution_count": null,
   "id": "5430d695-ae6b-4933-ae94-0d200d733c5d",
   "metadata": {
    "scrolled": true
   },
   "outputs": [],
   "source": [
    "\n"
   ]
  },
  {
   "cell_type": "code",
   "execution_count": null,
   "id": "f4f339b3-e5db-4f7e-a9e2-c765d9eb3358",
   "metadata": {},
   "outputs": [],
   "source": []
  },
  {
   "cell_type": "code",
   "execution_count": null,
   "id": "b6667e5f-7dd0-4a29-8f28-d672d7d1adb3",
   "metadata": {},
   "outputs": [],
   "source": []
  },
  {
   "cell_type": "code",
   "execution_count": null,
   "id": "7675ac66-7a08-4494-a70b-9ffd664487e4",
   "metadata": {},
   "outputs": [],
   "source": []
  }
 ],
 "metadata": {
  "kernelspec": {
   "display_name": "girlsInc-env",
   "language": "python",
   "name": "girlsinc-env"
  },
  "language_info": {
   "codemirror_mode": {
    "name": "ipython",
    "version": 3
   },
   "file_extension": ".py",
   "mimetype": "text/x-python",
   "name": "python",
   "nbconvert_exporter": "python",
   "pygments_lexer": "ipython3",
   "version": "3.11.1"
  }
 },
 "nbformat": 4,
 "nbformat_minor": 5
}
